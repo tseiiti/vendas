{
 "cells": [
  {
   "cell_type": "code",
   "execution_count": 533,
   "metadata": {},
   "outputs": [
    {
     "name": "stdout",
     "output_type": "stream",
     "text": [
      "Defaulting to user installation because normal site-packages is not writeable\n",
      "Requirement already satisfied: pandas in /home/oscar/.local/lib/python3.10/site-packages (2.2.2)\n",
      "Requirement already satisfied: numpy>=1.22.4 in /home/oscar/.local/lib/python3.10/site-packages (from pandas) (1.26.4)\n",
      "Requirement already satisfied: python-dateutil>=2.8.2 in /home/oscar/.local/lib/python3.10/site-packages (from pandas) (2.9.0.post0)\n",
      "Requirement already satisfied: pytz>=2020.1 in /usr/lib/python3/dist-packages (from pandas) (2022.1)\n",
      "Requirement already satisfied: tzdata>=2022.7 in /home/oscar/.local/lib/python3.10/site-packages (from pandas) (2024.1)\n",
      "Requirement already satisfied: six>=1.5 in /usr/lib/python3/dist-packages (from python-dateutil>=2.8.2->pandas) (1.16.0)\n",
      "Defaulting to user installation because normal site-packages is not writeable\n",
      "Requirement already satisfied: faker in /home/oscar/.local/lib/python3.10/site-packages (24.9.0)\n",
      "Requirement already satisfied: python-dateutil>=2.4 in /home/oscar/.local/lib/python3.10/site-packages (from faker) (2.9.0.post0)\n",
      "Requirement already satisfied: six>=1.5 in /usr/lib/python3/dist-packages (from python-dateutil>=2.4->faker) (1.16.0)\n",
      "Defaulting to user installation because normal site-packages is not writeable\n",
      "Collecting unidecode\n",
      "  Using cached Unidecode-1.3.8-py3-none-any.whl.metadata (13 kB)\n",
      "Using cached Unidecode-1.3.8-py3-none-any.whl (235 kB)\n",
      "Installing collected packages: unidecode\n",
      "Successfully installed unidecode-1.3.8\n"
     ]
    }
   ],
   "source": [
    "!pip install pandas\n",
    "!pip install faker\n",
    "!pip install unidecode\n"
   ]
  },
  {
   "cell_type": "code",
   "execution_count": 72,
   "metadata": {},
   "outputs": [],
   "source": [
    "import random\n",
    "from faker import Faker\n",
    "fake = Faker('pt_BR')"
   ]
  },
  {
   "cell_type": "code",
   "execution_count": 134,
   "metadata": {},
   "outputs": [
    {
     "name": "stdout",
     "output_type": "stream",
     "text": [
      "nome completo: Sabonete de metal incrível\n"
     ]
    }
   ],
   "source": [
    "!pip install faker-commerce\n",
    "!pip install deep-translator\n",
    "\n",
    "from deep_translator import GoogleTranslator\n",
    "import faker_commerce\n",
    "fake.add_provider(faker_commerce.Provider)\n",
    "tradutor = GoogleTranslator(source= \"english\", target= \"portuguese\")\n",
    "print(\"produto:\", tradutor.translate(fake.ecommerce_name()))"
   ]
  },
  {
   "cell_type": "code",
   "execution_count": 73,
   "metadata": {},
   "outputs": [
    {
     "name": "stdout",
     "output_type": "stream",
     "text": [
      "nome completo: Lívia Silveira\n",
      "nome: Enrico\n",
      "sobrenome: Moura\n",
      "date de nascimento: 2024-03-08\n",
      "\n",
      "endereço completo:\n",
      "Estrada Julia Barros, 37\n",
      "Marmiteiros\n",
      "13338-781 Teixeira / RR\n",
      "\n",
      "endereço: Passarela Cavalcanti, 46\n",
      "tipo de logradouro: Condomínio\n",
      "logradouro: Distrito de Porto\n",
      "número: 19\n",
      "bairro: Novo Ouro Preto\n",
      "estado: Distrito Federal\n",
      "sigla: RR\n",
      "cep: 05128204\n",
      "cidade: Araújo Alegre\n",
      "país: Brazil\n",
      "celular: +55 (018) 95838 7713\n",
      "email: emanuelmoura@example.com\n",
      "email: asilveira@almeida.org\n",
      "date_of_birth: 1954-02-22\n",
      "company: Alves Araújo S/A\n",
      "company_suffix: Ltda.\n",
      "cnpj: 40.731.896/0001-01\n",
      "text: Doloribus quia saepe commodi. Quis assumenda distinctio harum.\n",
      "Quod quos mollitia nisi. Enim adipisci deserunt.\n",
      "Inventore dolore eius quidem.\n",
      "Amet placeat nam unde minima sapiente magni.\n",
      "catch_phrase: A possibilidade de concretizar seus projetos simplesmente\n",
      "cpf: 736.928.410-78\n",
      "rg: 082546319\n",
      "ssn: 61594283060\n",
      "número nota fiscal: 55.001.79820\n",
      "chave de acesso nota fiscal: 8844 6789 7204 1605 7590 4859 4438 1247 2654 8381 7910\n"
     ]
    }
   ],
   "source": [
    "# Exibindo os dados gerados\n",
    "print(\"nome completo:\", fake.name())\n",
    "print(\"nome:\", fake.first_name())\n",
    "print(\"sobrenome:\", fake.last_name())\n",
    "print(\"date de nascimento:\", fake.date())\n",
    "\n",
    "print(\"\\nendereço completo:\")\n",
    "print(fake.address())\n",
    "print(\"\")\n",
    "print(\"endereço:\", fake.street_address())\n",
    "print(\"tipo de logradouro:\", fake.street_prefix())\n",
    "print(\"logradouro:\", fake.street_name())\n",
    "print(\"número:\", fake.building_number())\n",
    "print(\"bairro:\", fake.bairro())\n",
    "print(\"estado:\", fake.estado_nome())\n",
    "print(\"sigla:\", fake.estado_sigla())\n",
    "print(\"cep:\", fake.postcode(formatted = True))\n",
    "print(\"cidade:\", fake.city())\n",
    "print(\"país:\", fake.current_country())\n",
    "# print(\"administrative_unit:\", fake.administrative_unit())\n",
    "# print(\"city_suffix:\", fake.city_suffix())\n",
    "# print(\"country:\", fake.country())\n",
    "\n",
    "# print(\"phone_number:\", fake.phone_number())\n",
    "print(\"celular:\", fake.cellphone_number())\n",
    "print(\"email:\", fake.email())\n",
    "print(\"email:\", fake.ascii_company_email())\n",
    "print(\"date_of_birth:\", fake.date_of_birth())\n",
    "print(\"company:\", fake.company())\n",
    "print(\"company_suffix:\", fake.company_suffix())\n",
    "print(\"cnpj:\", fake.cnpj())\n",
    "print(\"text:\", fake.text())\n",
    "print(\"catch_phrase:\", fake.catch_phrase())\n",
    "\n",
    "print(\"cpf:\", fake.cpf())\n",
    "print(\"rg:\", fake.rg())\n",
    "print(\"ssn:\", fake.ssn())\n",
    "\n",
    "print(\"número nota fiscal:\", f\"55.001.{random.randrange(1000, 99999)}\")\n",
    "\n",
    "ch = \"\"\n",
    "for _ in range(11):\n",
    "  ch += str(random.randrange(1000, 9999)) + \" \"\n",
    "print(\"chave de acesso nota fiscal:\", f\"{ch.strip()}\")"
   ]
  },
  {
   "cell_type": "code",
   "execution_count": 654,
   "metadata": {},
   "outputs": [
    {
     "name": "stdout",
     "output_type": "stream",
     "text": [
      "Luana Nogueira\n",
      "luana.nogueira\n"
     ]
    }
   ],
   "source": [
    "# print(fake.cidade())\n",
    "# random.randrange(1, 10)\n",
    "# print(fake.first_name())\n",
    "from unidecode import unidecode\n",
    "\n",
    "nome = fake.first_name()\n",
    "sobrenome = fake.last_name()\n",
    "nome_completo = f'{nome} {sobrenome}'\n",
    "\n",
    "aux = nome_completo.split()\n",
    "login = unidecode(aux[0].lower()) + '.' + unidecode(aux[-1].lower())\n",
    "print(nome_completo)\n",
    "print(login)"
   ]
  },
  {
   "cell_type": "code",
   "execution_count": 4,
   "metadata": {},
   "outputs": [
    {
     "data": {
      "text/html": [
       "<div>\n",
       "<style scoped>\n",
       "    .dataframe tbody tr th:only-of-type {\n",
       "        vertical-align: middle;\n",
       "    }\n",
       "\n",
       "    .dataframe tbody tr th {\n",
       "        vertical-align: top;\n",
       "    }\n",
       "\n",
       "    .dataframe thead th {\n",
       "        text-align: right;\n",
       "    }\n",
       "</style>\n",
       "<table border=\"1\" class=\"dataframe\">\n",
       "  <thead>\n",
       "    <tr style=\"text-align: right;\">\n",
       "      <th></th>\n",
       "      <th>Nome</th>\n",
       "      <th>Idade</th>\n",
       "      <th>Tempo de Empresa</th>\n",
       "    </tr>\n",
       "  </thead>\n",
       "  <tbody>\n",
       "    <tr>\n",
       "      <th>0</th>\n",
       "      <td>João Silva</td>\n",
       "      <td>35</td>\n",
       "      <td>3</td>\n",
       "    </tr>\n",
       "    <tr>\n",
       "      <th>1</th>\n",
       "      <td>Maria Souza</td>\n",
       "      <td>40</td>\n",
       "      <td>10</td>\n",
       "    </tr>\n",
       "    <tr>\n",
       "      <th>2</th>\n",
       "      <td>José Ramos</td>\n",
       "      <td>54</td>\n",
       "      <td>15</td>\n",
       "    </tr>\n",
       "    <tr>\n",
       "      <th>3</th>\n",
       "      <td>Pedro Ferreira</td>\n",
       "      <td>39</td>\n",
       "      <td>7</td>\n",
       "    </tr>\n",
       "  </tbody>\n",
       "</table>\n",
       "</div>"
      ],
      "text/plain": [
       "             Nome  Idade  Tempo de Empresa\n",
       "0      João Silva     35                 3\n",
       "1     Maria Souza     40                10\n",
       "2      José Ramos     54                15\n",
       "3  Pedro Ferreira     39                 7"
      ]
     },
     "execution_count": 4,
     "metadata": {},
     "output_type": "execute_result"
    }
   ],
   "source": [
    "import pandas as pd\n",
    "\n",
    "funcionarios = {\n",
    "  'Nome': ['João Silva', 'Maria Souza', 'José Ramos', 'Pedro Ferreira'],\n",
    "  'Idade': [35, 40, 54, 39],\n",
    "  'Tempo de Empresa': [3, 10, 15, 7],\n",
    "}\n",
    "\n",
    "df_dicionario = pd.DataFrame(funcionarios)\n",
    "df_dicionario"
   ]
  },
  {
   "cell_type": "code",
   "execution_count": 137,
   "metadata": {},
   "outputs": [],
   "source": [
    "import pandas as pd\n",
    "from faker import Faker\n",
    "from datetime import datetime\n",
    "fake = Faker('pt_BR')\n",
    "\n",
    "QUANTIDADE = 20\n",
    "\n",
    "nome = []\n",
    "cpf = []\n",
    "for _ in range(QUANTIDADE):\n",
    "  nome.append(fake.name())\n",
    "  cpf.append(fake.cpf())\n",
    "\n",
    "df = pd.DataFrame({ 'nome': nome, 'cpf': cpf })\n",
    "df"
   ]
  }
 ],
 "metadata": {
  "kernelspec": {
   "display_name": ".venv",
   "language": "python",
   "name": "python3"
  },
  "language_info": {
   "codemirror_mode": {
    "name": "ipython",
    "version": 3
   },
   "file_extension": ".py",
   "mimetype": "text/x-python",
   "name": "python",
   "nbconvert_exporter": "python",
   "pygments_lexer": "ipython3",
   "version": "3.10.12"
  }
 },
 "nbformat": 4,
 "nbformat_minor": 2
}
