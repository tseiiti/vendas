{
 "cells": [
  {
   "cell_type": "code",
   "execution_count": 1,
   "metadata": {},
   "outputs": [
    {
     "name": "stdout",
     "output_type": "stream",
     "text": [
      "Defaulting to user installation because normal site-packages is not writeable\n",
      "Collecting pymongo\n",
      "  Downloading pymongo-4.7.2-cp312-cp312-manylinux_2_17_x86_64.manylinux2014_x86_64.whl.metadata (22 kB)\n",
      "Collecting dnspython<3.0.0,>=1.16.0 (from pymongo)\n",
      "  Downloading dnspython-2.6.1-py3-none-any.whl.metadata (5.8 kB)\n",
      "Downloading pymongo-4.7.2-cp312-cp312-manylinux_2_17_x86_64.manylinux2014_x86_64.whl (686 kB)\n",
      "\u001b[2K   \u001b[90m━━━━━━━━━━━━━━━━━━━━━━━━━━━━━━━━━━━━━━━━\u001b[0m \u001b[32m686.8/686.8 kB\u001b[0m \u001b[31m21.1 MB/s\u001b[0m eta \u001b[36m0:00:00\u001b[0m\n",
      "\u001b[?25hDownloading dnspython-2.6.1-py3-none-any.whl (307 kB)\n",
      "\u001b[2K   \u001b[90m━━━━━━━━━━━━━━━━━━━━━━━━━━━━━━━━━━━━━━━━\u001b[0m \u001b[32m307.7/307.7 kB\u001b[0m \u001b[31m45.7 MB/s\u001b[0m eta \u001b[36m0:00:00\u001b[0m\n",
      "\u001b[?25hInstalling collected packages: dnspython, pymongo\n",
      "Successfully installed dnspython-2.6.1 pymongo-4.7.2\n",
      "Defaulting to user installation because normal site-packages is not writeable\n",
      "Collecting faker\n",
      "  Downloading Faker-25.2.0-py3-none-any.whl.metadata (15 kB)\n",
      "Requirement already satisfied: python-dateutil>=2.4 in /usr/lib/python3/dist-packages (from faker) (2.8.2)\n",
      "Downloading Faker-25.2.0-py3-none-any.whl (1.8 MB)\n",
      "\u001b[2K   \u001b[90m━━━━━━━━━━━━━━━━━━━━━━━━━━━━━━━━━━━━━━━━\u001b[0m \u001b[32m1.8/1.8 MB\u001b[0m \u001b[31m36.1 MB/s\u001b[0m eta \u001b[36m0:00:00\u001b[0ma \u001b[36m0:00:01\u001b[0m\n",
      "\u001b[?25hInstalling collected packages: faker\n",
      "Successfully installed faker-25.2.0\n",
      "Defaulting to user installation because normal site-packages is not writeable\n",
      "Collecting unidecode\n",
      "  Downloading Unidecode-1.3.8-py3-none-any.whl.metadata (13 kB)\n",
      "Downloading Unidecode-1.3.8-py3-none-any.whl (235 kB)\n",
      "\u001b[2K   \u001b[90m━━━━━━━━━━━━━━━━━━━━━━━━━━━━━━━━━━━━━━━━\u001b[0m \u001b[32m235.5/235.5 kB\u001b[0m \u001b[31m11.5 MB/s\u001b[0m eta \u001b[36m0:00:00\u001b[0m\n",
      "\u001b[?25hInstalling collected packages: unidecode\n",
      "Successfully installed unidecode-1.3.8\n",
      "Defaulting to user installation because normal site-packages is not writeable\n",
      "Collecting pandas\n",
      "  Downloading pandas-2.2.2-cp312-cp312-manylinux_2_17_x86_64.manylinux2014_x86_64.whl.metadata (19 kB)\n",
      "Collecting numpy>=1.26.0 (from pandas)\n",
      "  Downloading numpy-1.26.4-cp312-cp312-manylinux_2_17_x86_64.manylinux2014_x86_64.whl.metadata (61 kB)\n",
      "\u001b[2K     \u001b[90m━━━━━━━━━━━━━━━━━━━━━━━━━━━━━━━━━━━━━━━━\u001b[0m \u001b[32m61.0/61.0 kB\u001b[0m \u001b[31m2.6 MB/s\u001b[0m eta \u001b[36m0:00:00\u001b[0m\n",
      "\u001b[?25hRequirement already satisfied: python-dateutil>=2.8.2 in /usr/lib/python3/dist-packages (from pandas) (2.8.2)\n",
      "Requirement already satisfied: pytz>=2020.1 in /usr/lib/python3/dist-packages (from pandas) (2024.1)\n",
      "Collecting tzdata>=2022.7 (from pandas)\n",
      "  Downloading tzdata-2024.1-py2.py3-none-any.whl.metadata (1.4 kB)\n",
      "Downloading pandas-2.2.2-cp312-cp312-manylinux_2_17_x86_64.manylinux2014_x86_64.whl (12.7 MB)\n",
      "\u001b[2K   \u001b[90m━━━━━━━━━━━━━━━━━━━━━━━━━━━━━━━━━━━━━━━━\u001b[0m \u001b[32m12.7/12.7 MB\u001b[0m \u001b[31m50.3 MB/s\u001b[0m eta \u001b[36m0:00:00\u001b[0m00:01\u001b[0m00:01\u001b[0m\n",
      "\u001b[?25hDownloading numpy-1.26.4-cp312-cp312-manylinux_2_17_x86_64.manylinux2014_x86_64.whl (18.0 MB)\n",
      "\u001b[2K   \u001b[90m━━━━━━━━━━━━━━━━━━━━━━━━━━━━━━━━━━━━━━━━\u001b[0m \u001b[32m18.0/18.0 MB\u001b[0m \u001b[31m49.2 MB/s\u001b[0m eta \u001b[36m0:00:00\u001b[0m00:01\u001b[0m00:01\u001b[0m\n",
      "\u001b[?25hDownloading tzdata-2024.1-py2.py3-none-any.whl (345 kB)\n",
      "\u001b[2K   \u001b[90m━━━━━━━━━━━━━━━━━━━━━━━━━━━━━━━━━━━━━━━━\u001b[0m \u001b[32m345.4/345.4 kB\u001b[0m \u001b[31m45.0 MB/s\u001b[0m eta \u001b[36m0:00:00\u001b[0m\n",
      "\u001b[?25hInstalling collected packages: tzdata, numpy, pandas\n",
      "Successfully installed numpy-1.26.4 pandas-2.2.2 tzdata-2024.1\n",
      "Defaulting to user installation because normal site-packages is not writeable\n",
      "Collecting openpyxl\n",
      "  Downloading openpyxl-3.1.2-py2.py3-none-any.whl.metadata (2.5 kB)\n",
      "Collecting et-xmlfile (from openpyxl)\n",
      "  Downloading et_xmlfile-1.1.0-py3-none-any.whl.metadata (1.8 kB)\n",
      "Downloading openpyxl-3.1.2-py2.py3-none-any.whl (249 kB)\n",
      "\u001b[2K   \u001b[90m━━━━━━━━━━━━━━━━━━━━━━━━━━━━━━━━━━━━━━━━\u001b[0m \u001b[32m250.0/250.0 kB\u001b[0m \u001b[31m10.4 MB/s\u001b[0m eta \u001b[36m0:00:00\u001b[0m\n",
      "\u001b[?25hDownloading et_xmlfile-1.1.0-py3-none-any.whl (4.7 kB)\n",
      "Installing collected packages: et-xmlfile, openpyxl\n",
      "Successfully installed et-xmlfile-1.1.0 openpyxl-3.1.2\n",
      "Defaulting to user installation because normal site-packages is not writeable\n",
      "Collecting apyori\n",
      "  Downloading apyori-1.1.2.tar.gz (8.6 kB)\n",
      "  Preparing metadata (setup.py) ... \u001b[?25ldone\n",
      "\u001b[?25hBuilding wheels for collected packages: apyori\n",
      "  Building wheel for apyori (setup.py) ... \u001b[?25ldone\n",
      "\u001b[?25h  Created wheel for apyori: filename=apyori-1.1.2-py3-none-any.whl size=5954 sha256=15d05ed81bb7cde3549d677a6b309d96431912b43346f4720f8399eb7cafcb3a\n",
      "  Stored in directory: /home/oscar/.cache/pip/wheels/7f/49/e3/42c73b19a264de37129fadaa0c52f26cf50e87de08fb9804af\n",
      "Successfully built apyori\n",
      "Installing collected packages: apyori\n",
      "Successfully installed apyori-1.1.2\n",
      "Defaulting to user installation because normal site-packages is not writeable\n",
      "Collecting ipywidgets\n",
      "  Downloading ipywidgets-8.1.2-py3-none-any.whl.metadata (2.4 kB)\n",
      "Requirement already satisfied: comm>=0.1.3 in /home/oscar/.local/lib/python3.12/site-packages (from ipywidgets) (0.2.2)\n",
      "Requirement already satisfied: ipython>=6.1.0 in /home/oscar/.local/lib/python3.12/site-packages (from ipywidgets) (8.24.0)\n",
      "Requirement already satisfied: traitlets>=4.3.1 in /home/oscar/.local/lib/python3.12/site-packages (from ipywidgets) (5.14.3)\n",
      "Collecting widgetsnbextension~=4.0.10 (from ipywidgets)\n",
      "  Downloading widgetsnbextension-4.0.10-py3-none-any.whl.metadata (1.6 kB)\n",
      "Collecting jupyterlab-widgets~=3.0.10 (from ipywidgets)\n",
      "  Downloading jupyterlab_widgets-3.0.10-py3-none-any.whl.metadata (4.1 kB)\n",
      "Requirement already satisfied: decorator in /home/oscar/.local/lib/python3.12/site-packages (from ipython>=6.1.0->ipywidgets) (5.1.1)\n",
      "Requirement already satisfied: jedi>=0.16 in /home/oscar/.local/lib/python3.12/site-packages (from ipython>=6.1.0->ipywidgets) (0.19.1)\n",
      "Requirement already satisfied: matplotlib-inline in /home/oscar/.local/lib/python3.12/site-packages (from ipython>=6.1.0->ipywidgets) (0.1.7)\n",
      "Requirement already satisfied: prompt-toolkit<3.1.0,>=3.0.41 in /home/oscar/.local/lib/python3.12/site-packages (from ipython>=6.1.0->ipywidgets) (3.0.43)\n",
      "Requirement already satisfied: pygments>=2.4.0 in /usr/lib/python3/dist-packages (from ipython>=6.1.0->ipywidgets) (2.17.2)\n",
      "Requirement already satisfied: stack-data in /home/oscar/.local/lib/python3.12/site-packages (from ipython>=6.1.0->ipywidgets) (0.6.3)\n",
      "Requirement already satisfied: pexpect>4.3 in /usr/lib/python3/dist-packages (from ipython>=6.1.0->ipywidgets) (4.9.0)\n",
      "Requirement already satisfied: parso<0.9.0,>=0.8.3 in /home/oscar/.local/lib/python3.12/site-packages (from jedi>=0.16->ipython>=6.1.0->ipywidgets) (0.8.4)\n",
      "Requirement already satisfied: wcwidth in /home/oscar/.local/lib/python3.12/site-packages (from prompt-toolkit<3.1.0,>=3.0.41->ipython>=6.1.0->ipywidgets) (0.2.13)\n",
      "Requirement already satisfied: executing>=1.2.0 in /home/oscar/.local/lib/python3.12/site-packages (from stack-data->ipython>=6.1.0->ipywidgets) (2.0.1)\n",
      "Requirement already satisfied: asttokens>=2.1.0 in /home/oscar/.local/lib/python3.12/site-packages (from stack-data->ipython>=6.1.0->ipywidgets) (2.4.1)\n",
      "Requirement already satisfied: pure-eval in /home/oscar/.local/lib/python3.12/site-packages (from stack-data->ipython>=6.1.0->ipywidgets) (0.2.2)\n",
      "Requirement already satisfied: six>=1.12.0 in /usr/lib/python3/dist-packages (from asttokens>=2.1.0->stack-data->ipython>=6.1.0->ipywidgets) (1.16.0)\n",
      "Downloading ipywidgets-8.1.2-py3-none-any.whl (139 kB)\n",
      "\u001b[2K   \u001b[90m━━━━━━━━━━━━━━━━━━━━━━━━━━━━━━━━━━━━━━━━\u001b[0m \u001b[32m139.4/139.4 kB\u001b[0m \u001b[31m5.0 MB/s\u001b[0m eta \u001b[36m0:00:00\u001b[0m\n",
      "\u001b[?25hDownloading jupyterlab_widgets-3.0.10-py3-none-any.whl (215 kB)\n",
      "\u001b[2K   \u001b[90m━━━━━━━━━━━━━━━━━━━━━━━━━━━━━━━━━━━━━━━━\u001b[0m \u001b[32m215.0/215.0 kB\u001b[0m \u001b[31m24.3 MB/s\u001b[0m eta \u001b[36m0:00:00\u001b[0m\n",
      "\u001b[?25hDownloading widgetsnbextension-4.0.10-py3-none-any.whl (2.3 MB)\n",
      "\u001b[2K   \u001b[90m━━━━━━━━━━━━━━━━━━━━━━━━━━━━━━━━━━━━━━━━\u001b[0m \u001b[32m2.3/2.3 MB\u001b[0m \u001b[31m46.1 MB/s\u001b[0m eta \u001b[36m0:00:00\u001b[0ma \u001b[36m0:00:01\u001b[0m\n",
      "\u001b[?25hInstalling collected packages: widgetsnbextension, jupyterlab-widgets, ipywidgets\n",
      "Successfully installed ipywidgets-8.1.2 jupyterlab-widgets-3.0.10 widgetsnbextension-4.0.10\n",
      "Defaulting to user installation because normal site-packages is not writeable\n",
      "Collecting prophet\n",
      "  Downloading prophet-1.1.5-py3-none-manylinux_2_17_x86_64.manylinux2014_x86_64.whl.metadata (3.5 kB)\n",
      "Collecting cmdstanpy>=1.0.4 (from prophet)\n",
      "  Downloading cmdstanpy-1.2.2-py3-none-any.whl.metadata (4.1 kB)\n",
      "Requirement already satisfied: numpy>=1.15.4 in /home/oscar/.local/lib/python3.12/site-packages (from prophet) (1.26.4)\n",
      "Collecting matplotlib>=2.0.0 (from prophet)\n",
      "  Downloading matplotlib-3.9.0-cp312-cp312-manylinux_2_17_x86_64.manylinux2014_x86_64.whl.metadata (11 kB)\n",
      "Requirement already satisfied: pandas>=1.0.4 in /home/oscar/.local/lib/python3.12/site-packages (from prophet) (2.2.2)\n",
      "Collecting holidays>=0.25 (from prophet)\n",
      "  Downloading holidays-0.49-py3-none-any.whl.metadata (23 kB)\n",
      "Collecting tqdm>=4.36.1 (from prophet)\n",
      "  Downloading tqdm-4.66.4-py3-none-any.whl.metadata (57 kB)\n",
      "\u001b[2K     \u001b[90m━━━━━━━━━━━━━━━━━━━━━━━━━━━━━━━━━━━━━━━━\u001b[0m \u001b[32m57.6/57.6 kB\u001b[0m \u001b[31m7.5 MB/s\u001b[0m eta \u001b[36m0:00:00\u001b[0m\n",
      "\u001b[?25hCollecting importlib-resources (from prophet)\n",
      "  Downloading importlib_resources-6.4.0-py3-none-any.whl.metadata (3.9 kB)\n",
      "Collecting stanio<2.0.0,>=0.4.0 (from cmdstanpy>=1.0.4->prophet)\n",
      "  Downloading stanio-0.5.0-py3-none-any.whl.metadata (1.3 kB)\n",
      "Requirement already satisfied: python-dateutil in /usr/lib/python3/dist-packages (from holidays>=0.25->prophet) (2.8.2)\n",
      "Collecting contourpy>=1.0.1 (from matplotlib>=2.0.0->prophet)\n",
      "  Downloading contourpy-1.2.1-cp312-cp312-manylinux_2_17_x86_64.manylinux2014_x86_64.whl.metadata (5.8 kB)\n",
      "Collecting cycler>=0.10 (from matplotlib>=2.0.0->prophet)\n",
      "  Downloading cycler-0.12.1-py3-none-any.whl.metadata (3.8 kB)\n",
      "Collecting fonttools>=4.22.0 (from matplotlib>=2.0.0->prophet)\n",
      "  Downloading fonttools-4.52.1-cp312-cp312-manylinux_2_5_x86_64.manylinux1_x86_64.manylinux_2_17_x86_64.manylinux2014_x86_64.whl.metadata (160 kB)\n",
      "\u001b[2K     \u001b[90m━━━━━━━━━━━━━━━━━━━━━━━━━━━━━━━━━━━━━━━\u001b[0m \u001b[32m160.9/160.9 kB\u001b[0m \u001b[31m6.7 MB/s\u001b[0m eta \u001b[36m0:00:00\u001b[0m\n",
      "\u001b[?25hCollecting kiwisolver>=1.3.1 (from matplotlib>=2.0.0->prophet)\n",
      "  Downloading kiwisolver-1.4.5-cp312-cp312-manylinux_2_17_x86_64.manylinux2014_x86_64.whl.metadata (6.4 kB)\n",
      "Requirement already satisfied: packaging>=20.0 in /home/oscar/.local/lib/python3.12/site-packages (from matplotlib>=2.0.0->prophet) (24.0)\n",
      "Requirement already satisfied: pillow>=8 in /usr/lib/python3/dist-packages (from matplotlib>=2.0.0->prophet) (10.2.0)\n",
      "Requirement already satisfied: pyparsing>=2.3.1 in /usr/lib/python3/dist-packages (from matplotlib>=2.0.0->prophet) (3.1.1)\n",
      "Requirement already satisfied: pytz>=2020.1 in /usr/lib/python3/dist-packages (from pandas>=1.0.4->prophet) (2024.1)\n",
      "Requirement already satisfied: tzdata>=2022.7 in /home/oscar/.local/lib/python3.12/site-packages (from pandas>=1.0.4->prophet) (2024.1)\n",
      "Downloading prophet-1.1.5-py3-none-manylinux_2_17_x86_64.manylinux2014_x86_64.whl (14.4 MB)\n",
      "\u001b[2K   \u001b[90m━━━━━━━━━━━━━━━━━━━━━━━━━━━━━━━━━━━━━━━━\u001b[0m \u001b[32m14.4/14.4 MB\u001b[0m \u001b[31m50.7 MB/s\u001b[0m eta \u001b[36m0:00:00\u001b[0m00:01\u001b[0m00:01\u001b[0m\n",
      "\u001b[?25hDownloading cmdstanpy-1.2.2-py3-none-any.whl (94 kB)\n",
      "\u001b[2K   \u001b[90m━━━━━━━━━━━━━━━━━━━━━━━━━━━━━━━━━━━━━━━━\u001b[0m \u001b[32m94.4/94.4 kB\u001b[0m \u001b[31m18.5 MB/s\u001b[0m eta \u001b[36m0:00:00\u001b[0m\n",
      "\u001b[?25hDownloading holidays-0.49-py3-none-any.whl (1.0 MB)\n",
      "\u001b[2K   \u001b[90m━━━━━━━━━━━━━━━━━━━━━━━━━━━━━━━━━━━━━━━━\u001b[0m \u001b[32m1.0/1.0 MB\u001b[0m \u001b[31m45.3 MB/s\u001b[0m eta \u001b[36m0:00:00\u001b[0m\n",
      "\u001b[?25hDownloading matplotlib-3.9.0-cp312-cp312-manylinux_2_17_x86_64.manylinux2014_x86_64.whl (8.3 MB)\n",
      "\u001b[2K   \u001b[90m━━━━━━━━━━━━━━━━━━━━━━━━━━━━━━━━━━━━━━━━\u001b[0m \u001b[32m8.3/8.3 MB\u001b[0m \u001b[31m51.3 MB/s\u001b[0m eta \u001b[36m0:00:00\u001b[0m00:01\u001b[0m00:01\u001b[0m\n",
      "\u001b[?25hDownloading tqdm-4.66.4-py3-none-any.whl (78 kB)\n",
      "\u001b[2K   \u001b[90m━━━━━━━━━━━━━━━━━━━━━━━━━━━━━━━━━━━━━━━━\u001b[0m \u001b[32m78.3/78.3 kB\u001b[0m \u001b[31m16.2 MB/s\u001b[0m eta \u001b[36m0:00:00\u001b[0m\n",
      "\u001b[?25hDownloading importlib_resources-6.4.0-py3-none-any.whl (38 kB)\n",
      "Downloading contourpy-1.2.1-cp312-cp312-manylinux_2_17_x86_64.manylinux2014_x86_64.whl (309 kB)\n",
      "\u001b[2K   \u001b[90m━━━━━━━━━━━━━━━━━━━━━━━━━━━━━━━━━━━━━━━━\u001b[0m \u001b[32m309.2/309.2 kB\u001b[0m \u001b[31m40.4 MB/s\u001b[0m eta \u001b[36m0:00:00\u001b[0m\n",
      "\u001b[?25hDownloading cycler-0.12.1-py3-none-any.whl (8.3 kB)\n",
      "Downloading fonttools-4.52.1-cp312-cp312-manylinux_2_5_x86_64.manylinux1_x86_64.manylinux_2_17_x86_64.manylinux2014_x86_64.whl (4.9 MB)\n",
      "\u001b[2K   \u001b[90m━━━━━━━━━━━━━━━━━━━━━━━━━━━━━━━━━━━━━━━━\u001b[0m \u001b[32m4.9/4.9 MB\u001b[0m \u001b[31m54.4 MB/s\u001b[0m eta \u001b[36m0:00:00\u001b[0ma \u001b[36m0:00:01\u001b[0m\n",
      "\u001b[?25hDownloading kiwisolver-1.4.5-cp312-cp312-manylinux_2_17_x86_64.manylinux2014_x86_64.whl (1.5 MB)\n",
      "\u001b[2K   \u001b[90m━━━━━━━━━━━━━━━━━━━━━━━━━━━━━━━━━━━━━━━━\u001b[0m \u001b[32m1.5/1.5 MB\u001b[0m \u001b[31m50.1 MB/s\u001b[0m eta \u001b[36m0:00:00\u001b[0m\n",
      "\u001b[?25hDownloading stanio-0.5.0-py3-none-any.whl (8.0 kB)\n",
      "Installing collected packages: tqdm, stanio, kiwisolver, importlib-resources, holidays, fonttools, cycler, contourpy, matplotlib, cmdstanpy, prophet\n",
      "Successfully installed cmdstanpy-1.2.2 contourpy-1.2.1 cycler-0.12.1 fonttools-4.52.1 holidays-0.49 importlib-resources-6.4.0 kiwisolver-1.4.5 matplotlib-3.9.0 prophet-1.1.5 stanio-0.5.0 tqdm-4.66.4\n"
     ]
    }
   ],
   "source": [
    "!pip install pymongo\n",
    "!pip install faker\n",
    "!pip install unidecode\n",
    "!pip install pandas\n",
    "!pip install openpyxl\n",
    "!pip install apyori\n",
    "!pip install ipywidgets\n",
    "!pip install prophet"
   ]
  },
  {
   "cell_type": "code",
   "execution_count": 2,
   "metadata": {},
   "outputs": [],
   "source": [
    "import json\n",
    "from pymongo import MongoClient\n",
    "\n",
    "uri = 'mongodb://localhost/'\n",
    "db = MongoClient(uri)['vendas']"
   ]
  },
  {
   "cell_type": "code",
   "execution_count": 3,
   "metadata": {},
   "outputs": [
    {
     "data": {
      "text/plain": [
       "InsertManyResult([ObjectId('6652265eed4292fb2a1045dd'), ObjectId('6652265eed4292fb2a1045de'), ObjectId('6652265eed4292fb2a1045df'), ObjectId('6652265eed4292fb2a1045e0'), ObjectId('6652265eed4292fb2a1045e1'), ObjectId('6652265eed4292fb2a1045e2'), ObjectId('6652265eed4292fb2a1045e3'), ObjectId('6652265eed4292fb2a1045e4'), ObjectId('6652265eed4292fb2a1045e5'), ObjectId('6652265eed4292fb2a1045e6')], acknowledged=True)"
      ]
     },
     "execution_count": 3,
     "metadata": {},
     "output_type": "execute_result"
    }
   ],
   "source": [
    "with open('venda_representante.json', encoding = 'utf8') as f:\n",
    "\trepresentantes = json.load(f)\n",
    "\t\n",
    "db['venda_representante'].delete_many({})\n",
    "db['venda_representante'].insert_many(representantes)"
   ]
  },
  {
   "cell_type": "code",
   "execution_count": 4,
   "metadata": {},
   "outputs": [
    {
     "data": {
      "text/plain": [
       "InsertManyResult([ObjectId('66522660ed4292fb2a1045e7'), ObjectId('66522660ed4292fb2a1045e8'), ObjectId('66522660ed4292fb2a1045e9'), ObjectId('66522660ed4292fb2a1045ea'), ObjectId('66522660ed4292fb2a1045eb'), ObjectId('66522660ed4292fb2a1045ec'), ObjectId('66522660ed4292fb2a1045ed'), ObjectId('66522660ed4292fb2a1045ee'), ObjectId('66522660ed4292fb2a1045ef'), ObjectId('66522660ed4292fb2a1045f0'), ObjectId('66522660ed4292fb2a1045f1'), ObjectId('66522660ed4292fb2a1045f2'), ObjectId('66522660ed4292fb2a1045f3'), ObjectId('66522660ed4292fb2a1045f4'), ObjectId('66522660ed4292fb2a1045f5'), ObjectId('66522660ed4292fb2a1045f6'), ObjectId('66522660ed4292fb2a1045f7'), ObjectId('66522660ed4292fb2a1045f8'), ObjectId('66522660ed4292fb2a1045f9'), ObjectId('66522660ed4292fb2a1045fa'), ObjectId('66522660ed4292fb2a1045fb'), ObjectId('66522660ed4292fb2a1045fc'), ObjectId('66522660ed4292fb2a1045fd'), ObjectId('66522660ed4292fb2a1045fe'), ObjectId('66522660ed4292fb2a1045ff'), ObjectId('66522660ed4292fb2a104600'), ObjectId('66522660ed4292fb2a104601'), ObjectId('66522660ed4292fb2a104602'), ObjectId('66522660ed4292fb2a104603')], acknowledged=True)"
      ]
     },
     "execution_count": 4,
     "metadata": {},
     "output_type": "execute_result"
    }
   ],
   "source": [
    "with open('venda_estoque.json', encoding = 'utf8') as f:\n",
    "\testoques = json.load(f)\n",
    "\n",
    "db['venda_estoque'].delete_many({})\n",
    "db['venda_estoque'].insert_many(estoques)"
   ]
  },
  {
   "cell_type": "code",
   "execution_count": 5,
   "metadata": {},
   "outputs": [
    {
     "data": {
      "text/plain": [
       "UpdateResult({'n': 1, 'nModified': 1, 'ok': 1.0, 'updatedExisting': True}, acknowledged=True)"
      ]
     },
     "execution_count": 5,
     "metadata": {},
     "output_type": "execute_result"
    }
   ],
   "source": [
    "with open('venda_pedido.json', encoding = 'utf8') as f:\n",
    "\tpedidos = json.load(f)\n",
    "\n",
    "db['venda_pedido'].delete_many({})\n",
    "db['venda_pedido'].insert_many(pedidos)\n",
    "\n",
    "# atualizando controle do sequencial de pedidos\n",
    "db['__schema__'].update_one({'name': 'venda_pedido'}, {\n",
    "  '$set': {\n",
    "    'auto.seq': len(pedidos)\n",
    "  }}, upsert=False)"
   ]
  },
  {
   "cell_type": "code",
   "execution_count": 6,
   "metadata": {},
   "outputs": [
    {
     "data": {
      "text/plain": [
       "UpdateResult({'n': 1, 'nModified': 1, 'ok': 1.0, 'updatedExisting': True}, acknowledged=True)"
      ]
     },
     "execution_count": 6,
     "metadata": {},
     "output_type": "execute_result"
    }
   ],
   "source": [
    "with open('venda_rastreio.json', encoding = 'utf8') as f:\n",
    "\trastreios = json.load(f)\n",
    "\n",
    "db['venda_rastreio'].delete_many({})\n",
    "db['venda_rastreio'].insert_many(rastreios)\n",
    "\n",
    "# atualizando controle do sequencial de rastreios\n",
    "db['__schema__'].update_one({'name': 'venda_rastreio'}, {\n",
    "  '$set': {\n",
    "    'auto.seq': len(rastreios)\n",
    "  }}, upsert=False)"
   ]
  },
  {
   "cell_type": "code",
   "execution_count": 7,
   "metadata": {},
   "outputs": [
    {
     "data": {
      "text/plain": [
       "InsertManyResult([ObjectId('66522664ed4292fb2a106bfa'), ObjectId('66522664ed4292fb2a106bfb'), ObjectId('66522664ed4292fb2a106bfc'), ObjectId('66522664ed4292fb2a106bfd'), ObjectId('66522664ed4292fb2a106bfe'), ObjectId('66522664ed4292fb2a106bff'), ObjectId('66522664ed4292fb2a106c00'), ObjectId('66522664ed4292fb2a106c01'), ObjectId('66522664ed4292fb2a106c02'), ObjectId('66522664ed4292fb2a106c03'), ObjectId('66522664ed4292fb2a106c04'), ObjectId('66522664ed4292fb2a106c05'), ObjectId('66522664ed4292fb2a106c06'), ObjectId('66522664ed4292fb2a106c07'), ObjectId('66522664ed4292fb2a106c08'), ObjectId('66522664ed4292fb2a106c09'), ObjectId('66522664ed4292fb2a106c0a'), ObjectId('66522664ed4292fb2a106c0b'), ObjectId('66522664ed4292fb2a106c0c'), ObjectId('66522664ed4292fb2a106c0d'), ObjectId('66522664ed4292fb2a106c0e'), ObjectId('66522664ed4292fb2a106c0f'), ObjectId('66522664ed4292fb2a106c10'), ObjectId('66522664ed4292fb2a106c11'), ObjectId('66522664ed4292fb2a106c12'), ObjectId('66522664ed4292fb2a106c13'), ObjectId('66522664ed4292fb2a106c14'), ObjectId('66522664ed4292fb2a106c15'), ObjectId('66522664ed4292fb2a106c16'), ObjectId('66522664ed4292fb2a106c17'), ObjectId('66522664ed4292fb2a106c18'), ObjectId('66522664ed4292fb2a106c19'), ObjectId('66522664ed4292fb2a106c1a'), ObjectId('66522664ed4292fb2a106c1b'), ObjectId('66522664ed4292fb2a106c1c'), ObjectId('66522664ed4292fb2a106c1d'), ObjectId('66522664ed4292fb2a106c1e'), ObjectId('66522664ed4292fb2a106c1f'), ObjectId('66522664ed4292fb2a106c20'), ObjectId('66522664ed4292fb2a106c21'), ObjectId('66522664ed4292fb2a106c22'), ObjectId('66522664ed4292fb2a106c23'), ObjectId('66522664ed4292fb2a106c24'), ObjectId('66522664ed4292fb2a106c25'), ObjectId('66522664ed4292fb2a106c26'), ObjectId('66522664ed4292fb2a106c27'), ObjectId('66522664ed4292fb2a106c28'), ObjectId('66522664ed4292fb2a106c29'), ObjectId('66522664ed4292fb2a106c2a'), ObjectId('66522664ed4292fb2a106c2b'), ObjectId('66522664ed4292fb2a106c2c'), ObjectId('66522664ed4292fb2a106c2d'), ObjectId('66522664ed4292fb2a106c2e'), ObjectId('66522664ed4292fb2a106c2f'), ObjectId('66522664ed4292fb2a106c30'), ObjectId('66522664ed4292fb2a106c31'), ObjectId('66522664ed4292fb2a106c32'), ObjectId('66522664ed4292fb2a106c33'), ObjectId('66522664ed4292fb2a106c34'), ObjectId('66522664ed4292fb2a106c35'), ObjectId('66522664ed4292fb2a106c36'), ObjectId('66522664ed4292fb2a106c37'), ObjectId('66522664ed4292fb2a106c38'), ObjectId('66522664ed4292fb2a106c39'), ObjectId('66522664ed4292fb2a106c3a'), ObjectId('66522664ed4292fb2a106c3b'), ObjectId('66522664ed4292fb2a106c3c'), ObjectId('66522664ed4292fb2a106c3d'), ObjectId('66522664ed4292fb2a106c3e'), ObjectId('66522664ed4292fb2a106c3f'), ObjectId('66522664ed4292fb2a106c40'), ObjectId('66522664ed4292fb2a106c41'), ObjectId('66522664ed4292fb2a106c42'), ObjectId('66522664ed4292fb2a106c43'), ObjectId('66522664ed4292fb2a106c44'), ObjectId('66522664ed4292fb2a106c45'), ObjectId('66522664ed4292fb2a106c46'), ObjectId('66522664ed4292fb2a106c47'), ObjectId('66522664ed4292fb2a106c48'), ObjectId('66522664ed4292fb2a106c49'), ObjectId('66522664ed4292fb2a106c4a'), ObjectId('66522664ed4292fb2a106c4b'), ObjectId('66522664ed4292fb2a106c4c'), ObjectId('66522664ed4292fb2a106c4d'), ObjectId('66522664ed4292fb2a106c4e'), ObjectId('66522664ed4292fb2a106c4f'), ObjectId('66522664ed4292fb2a106c50'), ObjectId('66522664ed4292fb2a106c51'), ObjectId('66522664ed4292fb2a106c52'), ObjectId('66522664ed4292fb2a106c53'), ObjectId('66522664ed4292fb2a106c54'), ObjectId('66522664ed4292fb2a106c55'), ObjectId('66522664ed4292fb2a106c56'), ObjectId('66522664ed4292fb2a106c57'), ObjectId('66522664ed4292fb2a106c58'), ObjectId('66522664ed4292fb2a106c59'), ObjectId('66522664ed4292fb2a106c5a'), ObjectId('66522664ed4292fb2a106c5b'), ObjectId('66522664ed4292fb2a106c5c'), ObjectId('66522664ed4292fb2a106c5d'), ObjectId('66522664ed4292fb2a106c5e'), ObjectId('66522664ed4292fb2a106c5f'), ObjectId('66522664ed4292fb2a106c60'), ObjectId('66522664ed4292fb2a106c61'), ObjectId('66522664ed4292fb2a106c62'), ObjectId('66522664ed4292fb2a106c63'), ObjectId('66522664ed4292fb2a106c64'), ObjectId('66522664ed4292fb2a106c65'), ObjectId('66522664ed4292fb2a106c66'), ObjectId('66522664ed4292fb2a106c67'), ObjectId('66522664ed4292fb2a106c68'), ObjectId('66522664ed4292fb2a106c69'), ObjectId('66522664ed4292fb2a106c6a'), ObjectId('66522664ed4292fb2a106c6b'), ObjectId('66522664ed4292fb2a106c6c'), ObjectId('66522664ed4292fb2a106c6d'), ObjectId('66522664ed4292fb2a106c6e'), ObjectId('66522664ed4292fb2a106c6f'), ObjectId('66522664ed4292fb2a106c70'), ObjectId('66522664ed4292fb2a106c71'), ObjectId('66522664ed4292fb2a106c72'), ObjectId('66522664ed4292fb2a106c73'), ObjectId('66522664ed4292fb2a106c74'), ObjectId('66522664ed4292fb2a106c75'), ObjectId('66522664ed4292fb2a106c76'), ObjectId('66522664ed4292fb2a106c77'), ObjectId('66522664ed4292fb2a106c78'), ObjectId('66522664ed4292fb2a106c79'), ObjectId('66522664ed4292fb2a106c7a'), ObjectId('66522664ed4292fb2a106c7b'), ObjectId('66522664ed4292fb2a106c7c'), ObjectId('66522664ed4292fb2a106c7d'), ObjectId('66522664ed4292fb2a106c7e'), ObjectId('66522664ed4292fb2a106c7f'), ObjectId('66522664ed4292fb2a106c80'), ObjectId('66522664ed4292fb2a106c81'), ObjectId('66522664ed4292fb2a106c82'), ObjectId('66522664ed4292fb2a106c83'), ObjectId('66522664ed4292fb2a106c84'), ObjectId('66522664ed4292fb2a106c85'), ObjectId('66522664ed4292fb2a106c86'), ObjectId('66522664ed4292fb2a106c87'), ObjectId('66522664ed4292fb2a106c88'), ObjectId('66522664ed4292fb2a106c89'), ObjectId('66522664ed4292fb2a106c8a'), ObjectId('66522664ed4292fb2a106c8b'), ObjectId('66522664ed4292fb2a106c8c'), ObjectId('66522664ed4292fb2a106c8d'), ObjectId('66522664ed4292fb2a106c8e'), ObjectId('66522664ed4292fb2a106c8f'), ObjectId('66522664ed4292fb2a106c90'), ObjectId('66522664ed4292fb2a106c91'), ObjectId('66522664ed4292fb2a106c92'), ObjectId('66522664ed4292fb2a106c93'), ObjectId('66522664ed4292fb2a106c94'), ObjectId('66522664ed4292fb2a106c95'), ObjectId('66522664ed4292fb2a106c96'), ObjectId('66522664ed4292fb2a106c97'), ObjectId('66522664ed4292fb2a106c98'), ObjectId('66522664ed4292fb2a106c99'), ObjectId('66522664ed4292fb2a106c9a'), ObjectId('66522664ed4292fb2a106c9b'), ObjectId('66522664ed4292fb2a106c9c'), ObjectId('66522664ed4292fb2a106c9d'), ObjectId('66522664ed4292fb2a106c9e'), ObjectId('66522664ed4292fb2a106c9f'), ObjectId('66522664ed4292fb2a106ca0'), ObjectId('66522664ed4292fb2a106ca1'), ObjectId('66522664ed4292fb2a106ca2'), ObjectId('66522664ed4292fb2a106ca3'), ObjectId('66522664ed4292fb2a106ca4'), ObjectId('66522664ed4292fb2a106ca5'), ObjectId('66522664ed4292fb2a106ca6'), ObjectId('66522664ed4292fb2a106ca7'), ObjectId('66522664ed4292fb2a106ca8'), ObjectId('66522664ed4292fb2a106ca9'), ObjectId('66522664ed4292fb2a106caa'), ObjectId('66522664ed4292fb2a106cab'), ObjectId('66522664ed4292fb2a106cac'), ObjectId('66522664ed4292fb2a106cad'), ObjectId('66522664ed4292fb2a106cae'), ObjectId('66522664ed4292fb2a106caf'), ObjectId('66522664ed4292fb2a106cb0'), ObjectId('66522664ed4292fb2a106cb1'), ObjectId('66522664ed4292fb2a106cb2'), ObjectId('66522664ed4292fb2a106cb3'), ObjectId('66522664ed4292fb2a106cb4'), ObjectId('66522664ed4292fb2a106cb5'), ObjectId('66522664ed4292fb2a106cb6'), ObjectId('66522664ed4292fb2a106cb7')], acknowledged=True)"
      ]
     },
     "execution_count": 7,
     "metadata": {},
     "output_type": "execute_result"
    }
   ],
   "source": [
    "with open('venda_apriori.json', encoding = 'utf8') as f:\n",
    "\taprioris = json.load(f)\n",
    "\n",
    "db['venda_apriori'].delete_many({})\n",
    "db['venda_apriori'].insert_many(aprioris)"
   ]
  },
  {
   "cell_type": "code",
   "execution_count": null,
   "metadata": {},
   "outputs": [],
   "source": []
  }
 ],
 "metadata": {
  "kernelspec": {
   "display_name": "Python 3",
   "language": "python",
   "name": "python3"
  },
  "language_info": {
   "codemirror_mode": {
    "name": "ipython",
    "version": 3
   },
   "file_extension": ".py",
   "mimetype": "text/x-python",
   "name": "python",
   "nbconvert_exporter": "python",
   "pygments_lexer": "ipython3",
   "version": "3.12.3"
  }
 },
 "nbformat": 4,
 "nbformat_minor": 2
}
