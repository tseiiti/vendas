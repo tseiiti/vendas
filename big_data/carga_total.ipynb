{
 "cells": [
  {
   "cell_type": "code",
   "execution_count": 1,
   "metadata": {},
   "outputs": [
    {
     "name": "stdout",
     "output_type": "stream",
     "text": [
      "Defaulting to user installation because normal site-packages is not writeable\n",
      "Requirement already satisfied: pymongo in /home/oscar/.local/lib/python3.12/site-packages (4.7.2)\n",
      "Requirement already satisfied: dnspython<3.0.0,>=1.16.0 in /home/oscar/.local/lib/python3.12/site-packages (from pymongo) (2.6.1)\n"
     ]
    }
   ],
   "source": [
    "!pip install pymongo"
   ]
  },
  {
   "cell_type": "code",
   "execution_count": 8,
   "metadata": {},
   "outputs": [],
   "source": [
    "from pymongo import MongoClient\n",
    "import bson\n",
    "import os\n",
    "\n",
    "uri = 'mongodb://localhost/'\n",
    "db = MongoClient(uri)['vendas']"
   ]
  },
  {
   "cell_type": "markdown",
   "metadata": {},
   "source": [
    "# Backup"
   ]
  },
  {
   "cell_type": "code",
   "execution_count": 9,
   "metadata": {},
   "outputs": [],
   "source": [
    "for col_nam in sorted(db.list_collection_names()):\n",
    "  with open('bson/' + col_nam + '.bson', 'wb+') as file:\n",
    "    for doc in db.get_collection(col_nam).find():\n",
    "      file.write(bson.BSON.encode(doc))"
   ]
  },
  {
   "cell_type": "markdown",
   "metadata": {},
   "source": [
    "# Restore"
   ]
  },
  {
   "cell_type": "code",
   "execution_count": 23,
   "metadata": {},
   "outputs": [
    {
     "name": "stdout",
     "output_type": "stream",
     "text": [
      "__schema__\n",
      "auth_group\n",
      "auth_group_permissions\n",
      "auth_permission\n",
      "auth_user\n",
      "auth_user_groups\n",
      "auth_user_user_permissions\n",
      "django_admin_log\n",
      "django_content_type\n",
      "django_migrations\n",
      "django_session\n",
      "venda_apriori\n",
      "venda_estoque\n",
      "venda_pedido\n",
      "venda_rastreio\n",
      "venda_representante\n"
     ]
    }
   ],
   "source": [
    "replace = True\n",
    "\n",
    "for fil_nam in sorted(os.listdir(\"bson/\")):\n",
    "  if fil_nam.endswith(\".bson\"):\n",
    "    col_nam = fil_nam.split('.')[0]\n",
    "    print(col_nam)\n",
    "    if replace: db.get_collection(col_nam).drop()\n",
    "    with open('bson/' + col_nam + '.bson', 'rb+') as file:\n",
    "      doc = bson.decode_all(file.read())\n",
    "      if doc: db.get_collection(col_nam).insert_many(doc)"
   ]
  },
  {
   "cell_type": "code",
   "execution_count": null,
   "metadata": {},
   "outputs": [],
   "source": []
  }
 ],
 "metadata": {
  "kernelspec": {
   "display_name": "Python 3",
   "language": "python",
   "name": "python3"
  },
  "language_info": {
   "codemirror_mode": {
    "name": "ipython",
    "version": 3
   },
   "file_extension": ".py",
   "mimetype": "text/x-python",
   "name": "python",
   "nbconvert_exporter": "python",
   "pygments_lexer": "ipython3",
   "version": "3.12.3"
  }
 },
 "nbformat": 4,
 "nbformat_minor": 2
}
