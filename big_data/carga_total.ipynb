{
 "cells": [
  {
   "cell_type": "code",
   "execution_count": 4,
   "metadata": {},
   "outputs": [
    {
     "name": "stdout",
     "output_type": "stream",
     "text": [
      "Requirement already satisfied: pymongo in c:\\users\\oscar\\appdata\\local\\programs\\python\\python310\\lib\\site-packages (4.7.2)\n",
      "Requirement already satisfied: dnspython<3.0.0,>=1.16.0 in c:\\users\\oscar\\appdata\\local\\programs\\python\\python310\\lib\\site-packages (from pymongo) (2.6.1)\n",
      "Requirement already satisfied: faker in c:\\users\\oscar\\appdata\\local\\programs\\python\\python310\\lib\\site-packages (25.2.0)\n",
      "Requirement already satisfied: python-dateutil>=2.4 in c:\\users\\oscar\\appdata\\roaming\\python\\python310\\site-packages (from faker) (2.9.0.post0)\n",
      "Requirement already satisfied: six>=1.5 in c:\\users\\oscar\\appdata\\roaming\\python\\python310\\site-packages (from python-dateutil>=2.4->faker) (1.16.0)\n",
      "Requirement already satisfied: unidecode in c:\\users\\oscar\\appdata\\local\\programs\\python\\python310\\lib\\site-packages (1.3.8)\n",
      "Requirement already satisfied: pandas in c:\\users\\oscar\\appdata\\local\\programs\\python\\python310\\lib\\site-packages (2.2.2)\n",
      "Requirement already satisfied: numpy>=1.22.4 in c:\\users\\oscar\\appdata\\local\\programs\\python\\python310\\lib\\site-packages (from pandas) (1.26.4)\n",
      "Requirement already satisfied: python-dateutil>=2.8.2 in c:\\users\\oscar\\appdata\\roaming\\python\\python310\\site-packages (from pandas) (2.9.0.post0)\n",
      "Requirement already satisfied: pytz>=2020.1 in c:\\users\\oscar\\appdata\\local\\programs\\python\\python310\\lib\\site-packages (from pandas) (2024.1)\n",
      "Requirement already satisfied: tzdata>=2022.7 in c:\\users\\oscar\\appdata\\local\\programs\\python\\python310\\lib\\site-packages (from pandas) (2024.1)\n",
      "Requirement already satisfied: six>=1.5 in c:\\users\\oscar\\appdata\\roaming\\python\\python310\\site-packages (from python-dateutil>=2.8.2->pandas) (1.16.0)\n",
      "Requirement already satisfied: openpyxl in c:\\users\\oscar\\appdata\\local\\programs\\python\\python310\\lib\\site-packages (3.1.2)\n",
      "Requirement already satisfied: et-xmlfile in c:\\users\\oscar\\appdata\\local\\programs\\python\\python310\\lib\\site-packages (from openpyxl) (1.1.0)\n",
      "Requirement already satisfied: apyori in c:\\users\\oscar\\appdata\\local\\programs\\python\\python310\\lib\\site-packages (1.1.2)\n",
      "Requirement already satisfied: ipywidgets in c:\\users\\oscar\\appdata\\local\\programs\\python\\python310\\lib\\site-packages (8.1.2)\n",
      "Requirement already satisfied: comm>=0.1.3 in c:\\users\\oscar\\appdata\\roaming\\python\\python310\\site-packages (from ipywidgets) (0.2.2)\n",
      "Requirement already satisfied: ipython>=6.1.0 in c:\\users\\oscar\\appdata\\roaming\\python\\python310\\site-packages (from ipywidgets) (8.24.0)\n",
      "Requirement already satisfied: traitlets>=4.3.1 in c:\\users\\oscar\\appdata\\roaming\\python\\python310\\site-packages (from ipywidgets) (5.14.3)\n",
      "Requirement already satisfied: widgetsnbextension~=4.0.10 in c:\\users\\oscar\\appdata\\local\\programs\\python\\python310\\lib\\site-packages (from ipywidgets) (4.0.10)\n",
      "Requirement already satisfied: jupyterlab-widgets~=3.0.10 in c:\\users\\oscar\\appdata\\local\\programs\\python\\python310\\lib\\site-packages (from ipywidgets) (3.0.10)\n",
      "Requirement already satisfied: decorator in c:\\users\\oscar\\appdata\\roaming\\python\\python310\\site-packages (from ipython>=6.1.0->ipywidgets) (5.1.1)\n",
      "Requirement already satisfied: jedi>=0.16 in c:\\users\\oscar\\appdata\\roaming\\python\\python310\\site-packages (from ipython>=6.1.0->ipywidgets) (0.19.1)\n",
      "Requirement already satisfied: matplotlib-inline in c:\\users\\oscar\\appdata\\roaming\\python\\python310\\site-packages (from ipython>=6.1.0->ipywidgets) (0.1.7)\n",
      "Requirement already satisfied: prompt-toolkit<3.1.0,>=3.0.41 in c:\\users\\oscar\\appdata\\roaming\\python\\python310\\site-packages (from ipython>=6.1.0->ipywidgets) (3.0.43)\n",
      "Requirement already satisfied: pygments>=2.4.0 in c:\\users\\oscar\\appdata\\roaming\\python\\python310\\site-packages (from ipython>=6.1.0->ipywidgets) (2.18.0)\n",
      "Requirement already satisfied: stack-data in c:\\users\\oscar\\appdata\\roaming\\python\\python310\\site-packages (from ipython>=6.1.0->ipywidgets) (0.6.3)\n",
      "Requirement already satisfied: exceptiongroup in c:\\users\\oscar\\appdata\\roaming\\python\\python310\\site-packages (from ipython>=6.1.0->ipywidgets) (1.2.1)\n",
      "Requirement already satisfied: typing-extensions>=4.6 in c:\\users\\oscar\\appdata\\roaming\\python\\python310\\site-packages (from ipython>=6.1.0->ipywidgets) (4.12.0)\n",
      "Requirement already satisfied: colorama in c:\\users\\oscar\\appdata\\roaming\\python\\python310\\site-packages (from ipython>=6.1.0->ipywidgets) (0.4.6)\n",
      "Requirement already satisfied: parso<0.9.0,>=0.8.3 in c:\\users\\oscar\\appdata\\roaming\\python\\python310\\site-packages (from jedi>=0.16->ipython>=6.1.0->ipywidgets) (0.8.4)\n",
      "Requirement already satisfied: wcwidth in c:\\users\\oscar\\appdata\\roaming\\python\\python310\\site-packages (from prompt-toolkit<3.1.0,>=3.0.41->ipython>=6.1.0->ipywidgets) (0.2.13)\n",
      "Requirement already satisfied: executing>=1.2.0 in c:\\users\\oscar\\appdata\\roaming\\python\\python310\\site-packages (from stack-data->ipython>=6.1.0->ipywidgets) (2.0.1)\n",
      "Requirement already satisfied: asttokens>=2.1.0 in c:\\users\\oscar\\appdata\\roaming\\python\\python310\\site-packages (from stack-data->ipython>=6.1.0->ipywidgets) (2.4.1)\n",
      "Requirement already satisfied: pure-eval in c:\\users\\oscar\\appdata\\roaming\\python\\python310\\site-packages (from stack-data->ipython>=6.1.0->ipywidgets) (0.2.2)\n",
      "Requirement already satisfied: six>=1.12.0 in c:\\users\\oscar\\appdata\\roaming\\python\\python310\\site-packages (from asttokens>=2.1.0->stack-data->ipython>=6.1.0->ipywidgets) (1.16.0)\n",
      "Requirement already satisfied: prophet in c:\\users\\oscar\\appdata\\local\\programs\\python\\python310\\lib\\site-packages (1.1.5)\n",
      "Requirement already satisfied: cmdstanpy>=1.0.4 in c:\\users\\oscar\\appdata\\local\\programs\\python\\python310\\lib\\site-packages (from prophet) (1.2.2)\n",
      "Requirement already satisfied: numpy>=1.15.4 in c:\\users\\oscar\\appdata\\local\\programs\\python\\python310\\lib\\site-packages (from prophet) (1.26.4)\n",
      "Requirement already satisfied: matplotlib>=2.0.0 in c:\\users\\oscar\\appdata\\local\\programs\\python\\python310\\lib\\site-packages (from prophet) (3.9.0)\n",
      "Requirement already satisfied: pandas>=1.0.4 in c:\\users\\oscar\\appdata\\local\\programs\\python\\python310\\lib\\site-packages (from prophet) (2.2.2)\n",
      "Requirement already satisfied: holidays>=0.25 in c:\\users\\oscar\\appdata\\local\\programs\\python\\python310\\lib\\site-packages (from prophet) (0.49)\n",
      "Requirement already satisfied: tqdm>=4.36.1 in c:\\users\\oscar\\appdata\\local\\programs\\python\\python310\\lib\\site-packages (from prophet) (4.66.4)\n",
      "Requirement already satisfied: importlib-resources in c:\\users\\oscar\\appdata\\local\\programs\\python\\python310\\lib\\site-packages (from prophet) (6.4.0)\n",
      "Requirement already satisfied: stanio<2.0.0,>=0.4.0 in c:\\users\\oscar\\appdata\\local\\programs\\python\\python310\\lib\\site-packages (from cmdstanpy>=1.0.4->prophet) (0.5.0)\n",
      "Requirement already satisfied: python-dateutil in c:\\users\\oscar\\appdata\\roaming\\python\\python310\\site-packages (from holidays>=0.25->prophet) (2.9.0.post0)\n",
      "Requirement already satisfied: contourpy>=1.0.1 in c:\\users\\oscar\\appdata\\local\\programs\\python\\python310\\lib\\site-packages (from matplotlib>=2.0.0->prophet) (1.2.1)\n",
      "Requirement already satisfied: cycler>=0.10 in c:\\users\\oscar\\appdata\\local\\programs\\python\\python310\\lib\\site-packages (from matplotlib>=2.0.0->prophet) (0.12.1)\n",
      "Requirement already satisfied: fonttools>=4.22.0 in c:\\users\\oscar\\appdata\\local\\programs\\python\\python310\\lib\\site-packages (from matplotlib>=2.0.0->prophet) (4.52.1)\n",
      "Requirement already satisfied: kiwisolver>=1.3.1 in c:\\users\\oscar\\appdata\\local\\programs\\python\\python310\\lib\\site-packages (from matplotlib>=2.0.0->prophet) (1.4.5)\n",
      "Requirement already satisfied: packaging>=20.0 in c:\\users\\oscar\\appdata\\roaming\\python\\python310\\site-packages (from matplotlib>=2.0.0->prophet) (24.0)\n",
      "Requirement already satisfied: pillow>=8 in c:\\users\\oscar\\appdata\\local\\programs\\python\\python310\\lib\\site-packages (from matplotlib>=2.0.0->prophet) (10.3.0)\n",
      "Requirement already satisfied: pyparsing>=2.3.1 in c:\\users\\oscar\\appdata\\local\\programs\\python\\python310\\lib\\site-packages (from matplotlib>=2.0.0->prophet) (3.1.2)\n",
      "Requirement already satisfied: pytz>=2020.1 in c:\\users\\oscar\\appdata\\local\\programs\\python\\python310\\lib\\site-packages (from pandas>=1.0.4->prophet) (2024.1)\n",
      "Requirement already satisfied: tzdata>=2022.7 in c:\\users\\oscar\\appdata\\local\\programs\\python\\python310\\lib\\site-packages (from pandas>=1.0.4->prophet) (2024.1)\n",
      "Requirement already satisfied: colorama in c:\\users\\oscar\\appdata\\roaming\\python\\python310\\site-packages (from tqdm>=4.36.1->prophet) (0.4.6)\n",
      "Requirement already satisfied: six>=1.5 in c:\\users\\oscar\\appdata\\roaming\\python\\python310\\site-packages (from python-dateutil->holidays>=0.25->prophet) (1.16.0)\n"
     ]
    }
   ],
   "source": [
    "!pip install pymongo\n",
    "!pip install faker\n",
    "!pip install unidecode\n",
    "!pip install pandas\n",
    "!pip install openpyxl\n",
    "!pip install apyori\n",
    "!pip install ipywidgets\n",
    "!pip install prophet"
   ]
  },
  {
   "cell_type": "code",
   "execution_count": 7,
   "metadata": {},
   "outputs": [],
   "source": [
    "import json\n",
    "from pymongo import MongoClient\n",
    "\n",
    "uri = 'mongodb://localhost/'\n",
    "db = MongoClient(uri)['vendas']"
   ]
  },
  {
   "cell_type": "code",
   "execution_count": 9,
   "metadata": {},
   "outputs": [
    {
     "data": {
      "text/plain": [
       "InsertManyResult([ObjectId('6650d8f88058e3772117b5e2'), ObjectId('6650d8f88058e3772117b5e3'), ObjectId('6650d8f88058e3772117b5e4'), ObjectId('6650d8f88058e3772117b5e5'), ObjectId('6650d8f88058e3772117b5e6'), ObjectId('6650d8f88058e3772117b5e7'), ObjectId('6650d8f88058e3772117b5e8'), ObjectId('6650d8f88058e3772117b5e9'), ObjectId('6650d8f88058e3772117b5ea'), ObjectId('6650d8f88058e3772117b5eb')], acknowledged=True)"
      ]
     },
     "execution_count": 9,
     "metadata": {},
     "output_type": "execute_result"
    }
   ],
   "source": [
    "with open('venda_representante.json', encoding = 'utf8') as f:\n",
    "\trepresentantes = json.load(f)\n",
    "\t\n",
    "db['venda_representante'].delete_many({})\n",
    "db['venda_representante'].insert_many(representantes)"
   ]
  },
  {
   "cell_type": "code",
   "execution_count": 10,
   "metadata": {},
   "outputs": [
    {
     "data": {
      "text/plain": [
       "InsertManyResult([ObjectId('6650d9338058e3772117b5ec'), ObjectId('6650d9338058e3772117b5ed'), ObjectId('6650d9338058e3772117b5ee'), ObjectId('6650d9338058e3772117b5ef'), ObjectId('6650d9338058e3772117b5f0'), ObjectId('6650d9338058e3772117b5f1'), ObjectId('6650d9338058e3772117b5f2'), ObjectId('6650d9338058e3772117b5f3'), ObjectId('6650d9338058e3772117b5f4'), ObjectId('6650d9338058e3772117b5f5'), ObjectId('6650d9338058e3772117b5f6'), ObjectId('6650d9338058e3772117b5f7'), ObjectId('6650d9338058e3772117b5f8'), ObjectId('6650d9338058e3772117b5f9'), ObjectId('6650d9338058e3772117b5fa'), ObjectId('6650d9338058e3772117b5fb'), ObjectId('6650d9338058e3772117b5fc'), ObjectId('6650d9338058e3772117b5fd'), ObjectId('6650d9338058e3772117b5fe'), ObjectId('6650d9338058e3772117b5ff'), ObjectId('6650d9338058e3772117b600'), ObjectId('6650d9338058e3772117b601'), ObjectId('6650d9338058e3772117b602'), ObjectId('6650d9338058e3772117b603'), ObjectId('6650d9338058e3772117b604'), ObjectId('6650d9338058e3772117b605'), ObjectId('6650d9338058e3772117b606'), ObjectId('6650d9338058e3772117b607'), ObjectId('6650d9338058e3772117b608')], acknowledged=True)"
      ]
     },
     "execution_count": 10,
     "metadata": {},
     "output_type": "execute_result"
    }
   ],
   "source": [
    "with open('venda_estoque.json', encoding = 'utf8') as f:\n",
    "\testoques = json.load(f)\n",
    "\n",
    "db['venda_estoque'].delete_many({})\n",
    "db['venda_estoque'].insert_many(estoques)"
   ]
  },
  {
   "cell_type": "code",
   "execution_count": 11,
   "metadata": {},
   "outputs": [
    {
     "data": {
      "text/plain": [
       "UpdateResult({'n': 0, 'nModified': 0, 'ok': 1.0, 'updatedExisting': False}, acknowledged=True)"
      ]
     },
     "execution_count": 11,
     "metadata": {},
     "output_type": "execute_result"
    }
   ],
   "source": [
    "with open('venda_pedido.json', encoding = 'utf8') as f:\n",
    "\tpedidos = json.load(f)\n",
    "\n",
    "db['venda_pedido'].delete_many({})\n",
    "db['venda_pedido'].insert_many(pedidos)\n",
    "\n",
    "# atualizando controle do sequencial de pedidos\n",
    "db['__schema__'].update_one({'name': 'venda_pedido'}, {\n",
    "  '$set': {\n",
    "    'auto.seq': len(pedidos)\n",
    "  }}, upsert=False)"
   ]
  },
  {
   "cell_type": "code",
   "execution_count": 12,
   "metadata": {},
   "outputs": [
    {
     "data": {
      "text/plain": [
       "UpdateResult({'n': 0, 'nModified': 0, 'ok': 1.0, 'updatedExisting': False}, acknowledged=True)"
      ]
     },
     "execution_count": 12,
     "metadata": {},
     "output_type": "execute_result"
    }
   ],
   "source": [
    "with open('venda_rastreio.json', encoding = 'utf8') as f:\n",
    "\trastreios = json.load(f)\n",
    "\n",
    "db['venda_rastreio'].delete_many({})\n",
    "db['venda_rastreio'].insert_many(rastreios)\n",
    "\n",
    "# atualizando controle do sequencial de rastreios\n",
    "db['__schema__'].update_one({'name': 'venda_rastreio'}, {\n",
    "  '$set': {\n",
    "    'auto.seq': len(rastreios)\n",
    "  }}, upsert=False)"
   ]
  },
  {
   "cell_type": "code",
   "execution_count": 13,
   "metadata": {},
   "outputs": [
    {
     "data": {
      "text/plain": [
       "InsertManyResult([ObjectId('6650d9398058e3772117dbff'), ObjectId('6650d9398058e3772117dc00'), ObjectId('6650d9398058e3772117dc01'), ObjectId('6650d9398058e3772117dc02'), ObjectId('6650d9398058e3772117dc03'), ObjectId('6650d9398058e3772117dc04'), ObjectId('6650d9398058e3772117dc05'), ObjectId('6650d9398058e3772117dc06'), ObjectId('6650d9398058e3772117dc07'), ObjectId('6650d9398058e3772117dc08'), ObjectId('6650d9398058e3772117dc09'), ObjectId('6650d9398058e3772117dc0a'), ObjectId('6650d9398058e3772117dc0b'), ObjectId('6650d9398058e3772117dc0c'), ObjectId('6650d9398058e3772117dc0d'), ObjectId('6650d9398058e3772117dc0e'), ObjectId('6650d9398058e3772117dc0f'), ObjectId('6650d9398058e3772117dc10'), ObjectId('6650d9398058e3772117dc11'), ObjectId('6650d9398058e3772117dc12'), ObjectId('6650d9398058e3772117dc13'), ObjectId('6650d9398058e3772117dc14'), ObjectId('6650d9398058e3772117dc15'), ObjectId('6650d9398058e3772117dc16'), ObjectId('6650d9398058e3772117dc17'), ObjectId('6650d9398058e3772117dc18'), ObjectId('6650d9398058e3772117dc19'), ObjectId('6650d9398058e3772117dc1a'), ObjectId('6650d9398058e3772117dc1b'), ObjectId('6650d9398058e3772117dc1c'), ObjectId('6650d9398058e3772117dc1d'), ObjectId('6650d9398058e3772117dc1e'), ObjectId('6650d9398058e3772117dc1f'), ObjectId('6650d9398058e3772117dc20'), ObjectId('6650d9398058e3772117dc21'), ObjectId('6650d9398058e3772117dc22'), ObjectId('6650d9398058e3772117dc23'), ObjectId('6650d9398058e3772117dc24'), ObjectId('6650d9398058e3772117dc25'), ObjectId('6650d9398058e3772117dc26'), ObjectId('6650d9398058e3772117dc27'), ObjectId('6650d9398058e3772117dc28'), ObjectId('6650d9398058e3772117dc29'), ObjectId('6650d9398058e3772117dc2a'), ObjectId('6650d9398058e3772117dc2b'), ObjectId('6650d9398058e3772117dc2c'), ObjectId('6650d9398058e3772117dc2d'), ObjectId('6650d9398058e3772117dc2e'), ObjectId('6650d9398058e3772117dc2f'), ObjectId('6650d9398058e3772117dc30'), ObjectId('6650d9398058e3772117dc31'), ObjectId('6650d9398058e3772117dc32'), ObjectId('6650d9398058e3772117dc33'), ObjectId('6650d9398058e3772117dc34'), ObjectId('6650d9398058e3772117dc35'), ObjectId('6650d9398058e3772117dc36'), ObjectId('6650d9398058e3772117dc37'), ObjectId('6650d9398058e3772117dc38'), ObjectId('6650d9398058e3772117dc39'), ObjectId('6650d9398058e3772117dc3a'), ObjectId('6650d9398058e3772117dc3b'), ObjectId('6650d9398058e3772117dc3c'), ObjectId('6650d9398058e3772117dc3d'), ObjectId('6650d9398058e3772117dc3e'), ObjectId('6650d9398058e3772117dc3f'), ObjectId('6650d9398058e3772117dc40'), ObjectId('6650d9398058e3772117dc41'), ObjectId('6650d9398058e3772117dc42'), ObjectId('6650d9398058e3772117dc43'), ObjectId('6650d9398058e3772117dc44'), ObjectId('6650d9398058e3772117dc45'), ObjectId('6650d9398058e3772117dc46'), ObjectId('6650d9398058e3772117dc47'), ObjectId('6650d9398058e3772117dc48'), ObjectId('6650d9398058e3772117dc49'), ObjectId('6650d9398058e3772117dc4a'), ObjectId('6650d9398058e3772117dc4b'), ObjectId('6650d9398058e3772117dc4c'), ObjectId('6650d9398058e3772117dc4d'), ObjectId('6650d9398058e3772117dc4e'), ObjectId('6650d9398058e3772117dc4f'), ObjectId('6650d9398058e3772117dc50'), ObjectId('6650d9398058e3772117dc51'), ObjectId('6650d9398058e3772117dc52'), ObjectId('6650d9398058e3772117dc53'), ObjectId('6650d9398058e3772117dc54'), ObjectId('6650d9398058e3772117dc55'), ObjectId('6650d9398058e3772117dc56'), ObjectId('6650d9398058e3772117dc57'), ObjectId('6650d9398058e3772117dc58'), ObjectId('6650d9398058e3772117dc59'), ObjectId('6650d9398058e3772117dc5a'), ObjectId('6650d9398058e3772117dc5b'), ObjectId('6650d9398058e3772117dc5c'), ObjectId('6650d9398058e3772117dc5d'), ObjectId('6650d9398058e3772117dc5e'), ObjectId('6650d9398058e3772117dc5f'), ObjectId('6650d9398058e3772117dc60'), ObjectId('6650d9398058e3772117dc61'), ObjectId('6650d9398058e3772117dc62'), ObjectId('6650d9398058e3772117dc63'), ObjectId('6650d9398058e3772117dc64'), ObjectId('6650d9398058e3772117dc65'), ObjectId('6650d9398058e3772117dc66'), ObjectId('6650d9398058e3772117dc67'), ObjectId('6650d9398058e3772117dc68'), ObjectId('6650d9398058e3772117dc69'), ObjectId('6650d9398058e3772117dc6a'), ObjectId('6650d9398058e3772117dc6b'), ObjectId('6650d9398058e3772117dc6c'), ObjectId('6650d9398058e3772117dc6d'), ObjectId('6650d9398058e3772117dc6e'), ObjectId('6650d9398058e3772117dc6f'), ObjectId('6650d9398058e3772117dc70'), ObjectId('6650d9398058e3772117dc71'), ObjectId('6650d9398058e3772117dc72'), ObjectId('6650d9398058e3772117dc73'), ObjectId('6650d9398058e3772117dc74'), ObjectId('6650d9398058e3772117dc75'), ObjectId('6650d9398058e3772117dc76'), ObjectId('6650d9398058e3772117dc77'), ObjectId('6650d9398058e3772117dc78'), ObjectId('6650d9398058e3772117dc79'), ObjectId('6650d9398058e3772117dc7a'), ObjectId('6650d9398058e3772117dc7b'), ObjectId('6650d9398058e3772117dc7c'), ObjectId('6650d9398058e3772117dc7d'), ObjectId('6650d9398058e3772117dc7e'), ObjectId('6650d9398058e3772117dc7f'), ObjectId('6650d9398058e3772117dc80'), ObjectId('6650d9398058e3772117dc81'), ObjectId('6650d9398058e3772117dc82'), ObjectId('6650d9398058e3772117dc83'), ObjectId('6650d9398058e3772117dc84'), ObjectId('6650d9398058e3772117dc85'), ObjectId('6650d9398058e3772117dc86'), ObjectId('6650d9398058e3772117dc87'), ObjectId('6650d9398058e3772117dc88'), ObjectId('6650d9398058e3772117dc89'), ObjectId('6650d9398058e3772117dc8a'), ObjectId('6650d9398058e3772117dc8b'), ObjectId('6650d9398058e3772117dc8c'), ObjectId('6650d9398058e3772117dc8d'), ObjectId('6650d9398058e3772117dc8e'), ObjectId('6650d9398058e3772117dc8f'), ObjectId('6650d9398058e3772117dc90'), ObjectId('6650d9398058e3772117dc91'), ObjectId('6650d9398058e3772117dc92'), ObjectId('6650d9398058e3772117dc93'), ObjectId('6650d9398058e3772117dc94'), ObjectId('6650d9398058e3772117dc95'), ObjectId('6650d9398058e3772117dc96'), ObjectId('6650d9398058e3772117dc97'), ObjectId('6650d9398058e3772117dc98'), ObjectId('6650d9398058e3772117dc99'), ObjectId('6650d9398058e3772117dc9a'), ObjectId('6650d9398058e3772117dc9b'), ObjectId('6650d9398058e3772117dc9c'), ObjectId('6650d9398058e3772117dc9d'), ObjectId('6650d9398058e3772117dc9e'), ObjectId('6650d9398058e3772117dc9f'), ObjectId('6650d9398058e3772117dca0'), ObjectId('6650d9398058e3772117dca1'), ObjectId('6650d9398058e3772117dca2'), ObjectId('6650d9398058e3772117dca3'), ObjectId('6650d9398058e3772117dca4'), ObjectId('6650d9398058e3772117dca5'), ObjectId('6650d9398058e3772117dca6'), ObjectId('6650d9398058e3772117dca7'), ObjectId('6650d9398058e3772117dca8'), ObjectId('6650d9398058e3772117dca9'), ObjectId('6650d9398058e3772117dcaa'), ObjectId('6650d9398058e3772117dcab'), ObjectId('6650d9398058e3772117dcac'), ObjectId('6650d9398058e3772117dcad'), ObjectId('6650d9398058e3772117dcae'), ObjectId('6650d9398058e3772117dcaf'), ObjectId('6650d9398058e3772117dcb0'), ObjectId('6650d9398058e3772117dcb1'), ObjectId('6650d9398058e3772117dcb2'), ObjectId('6650d9398058e3772117dcb3'), ObjectId('6650d9398058e3772117dcb4'), ObjectId('6650d9398058e3772117dcb5'), ObjectId('6650d9398058e3772117dcb6'), ObjectId('6650d9398058e3772117dcb7'), ObjectId('6650d9398058e3772117dcb8'), ObjectId('6650d9398058e3772117dcb9'), ObjectId('6650d9398058e3772117dcba'), ObjectId('6650d9398058e3772117dcbb'), ObjectId('6650d9398058e3772117dcbc')], acknowledged=True)"
      ]
     },
     "execution_count": 13,
     "metadata": {},
     "output_type": "execute_result"
    }
   ],
   "source": [
    "with open('venda_apriori.json', encoding = 'utf8') as f:\n",
    "\taprioris = json.load(f)\n",
    "\n",
    "db['venda_apriori'].delete_many({})\n",
    "db['venda_apriori'].insert_many(aprioris)"
   ]
  }
 ],
 "metadata": {
  "kernelspec": {
   "display_name": "Python 3",
   "language": "python",
   "name": "python3"
  },
  "language_info": {
   "codemirror_mode": {
    "name": "ipython",
    "version": 3
   },
   "file_extension": ".py",
   "mimetype": "text/x-python",
   "name": "python",
   "nbconvert_exporter": "python",
   "pygments_lexer": "ipython3",
   "version": "3.10.0rc2"
  }
 },
 "nbformat": 4,
 "nbformat_minor": 2
}
