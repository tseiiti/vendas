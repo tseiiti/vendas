{
 "cells": [
  {
   "cell_type": "code",
   "execution_count": null,
   "metadata": {},
   "outputs": [],
   "source": [
    "import json\n",
    "from pymongo import MongoClient\n",
    "\n",
    "uri = 'mongodb://localhost/'\n",
    "db = MongoClient(uri)['vendas']"
   ]
  },
  {
   "cell_type": "code",
   "execution_count": null,
   "metadata": {},
   "outputs": [],
   "source": [
    "with open('venda_representante.json') as f:\n",
    "\trepresentantes = json.load(f)\n",
    "\n",
    "db['venda_representante'].delete_many({})\n",
    "db['venda_representante'].insert_many(representantes)"
   ]
  },
  {
   "cell_type": "code",
   "execution_count": null,
   "metadata": {},
   "outputs": [],
   "source": [
    "with open('venda_estoque.json') as f:\n",
    "\testoques = json.load(f)\n",
    "\n",
    "db['venda_estoque'].delete_many({})\n",
    "db['venda_estoque'].insert_many(estoques)"
   ]
  },
  {
   "cell_type": "code",
   "execution_count": null,
   "metadata": {},
   "outputs": [],
   "source": [
    "with open('venda_pedido.json') as f:\n",
    "\tpedidos = json.load(f)\n",
    "\n",
    "db['venda_pedido'].delete_many({})\n",
    "db['venda_pedido'].insert_many(pedidos)\n",
    "\n",
    "# atualizando controle do sequencial de pedidos\n",
    "db['__schema__'].update_one({'name': 'venda_pedido'}, {\n",
    "  '$set': {\n",
    "    'auto.seq': len(pedidos)\n",
    "  }}, upsert=False)"
   ]
  },
  {
   "cell_type": "code",
   "execution_count": null,
   "metadata": {},
   "outputs": [],
   "source": [
    "with open('venda_rastreio.json') as f:\n",
    "\trastreios = json.load(f)\n",
    "\n",
    "db['venda_rastreio'].delete_many({})\n",
    "db['venda_rastreio'].insert_many(rastreios)\n",
    "\n",
    "# atualizando controle do sequencial de rastreios\n",
    "db['__schema__'].update_one({'name': 'venda_rastreio'}, {\n",
    "  '$set': {\n",
    "    'auto.seq': len(rastreios)\n",
    "  }}, upsert=False)"
   ]
  },
  {
   "cell_type": "code",
   "execution_count": null,
   "metadata": {},
   "outputs": [],
   "source": [
    "with open('venda_apriori.json') as f:\n",
    "\taprioris = json.load(f)\n",
    "\n",
    "db['venda_apriori'].delete_many({})\n",
    "db['venda_apriori'].insert_many(aprioris)"
   ]
  }
 ],
 "metadata": {
  "kernelspec": {
   "display_name": "Python 3",
   "language": "python",
   "name": "python3"
  },
  "language_info": {
   "name": "python",
   "version": "3.10.12"
  }
 },
 "nbformat": 4,
 "nbformat_minor": 2
}
