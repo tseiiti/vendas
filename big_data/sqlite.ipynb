{
 "cells": [
  {
   "cell_type": "code",
   "execution_count": 1,
   "metadata": {},
   "outputs": [
    {
     "name": "stdout",
     "output_type": "stream",
     "text": [
      "Defaulting to user installation because normal site-packages is not writeable\n",
      "Requirement already satisfied: pandas in /home/oscar/.local/lib/python3.10/site-packages (2.2.2)\n",
      "Requirement already satisfied: numpy>=1.22.4 in /home/oscar/.local/lib/python3.10/site-packages (from pandas) (1.26.4)\n",
      "Requirement already satisfied: python-dateutil>=2.8.2 in /home/oscar/.local/lib/python3.10/site-packages (from pandas) (2.9.0.post0)\n",
      "Requirement already satisfied: pytz>=2020.1 in /usr/lib/python3/dist-packages (from pandas) (2022.1)\n",
      "Requirement already satisfied: tzdata>=2022.7 in /home/oscar/.local/lib/python3.10/site-packages (from pandas) (2024.1)\n",
      "Requirement already satisfied: six>=1.5 in /usr/lib/python3/dist-packages (from python-dateutil>=2.8.2->pandas) (1.16.0)\n"
     ]
    }
   ],
   "source": [
    "!pip install pandas"
   ]
  },
  {
   "cell_type": "code",
   "execution_count": 2,
   "metadata": {},
   "outputs": [],
   "source": [
    "import pandas as pd"
   ]
  },
  {
   "cell_type": "code",
   "execution_count": 3,
   "metadata": {},
   "outputs": [],
   "source": [
    "produtos = pd.read_excel('estoque.xlsx')"
   ]
  },
  {
   "cell_type": "code",
   "execution_count": 4,
   "metadata": {},
   "outputs": [
    {
     "data": {
      "text/html": [
       "<div>\n",
       "<style scoped>\n",
       "    .dataframe tbody tr th:only-of-type {\n",
       "        vertical-align: middle;\n",
       "    }\n",
       "\n",
       "    .dataframe tbody tr th {\n",
       "        vertical-align: top;\n",
       "    }\n",
       "\n",
       "    .dataframe thead th {\n",
       "        text-align: right;\n",
       "    }\n",
       "</style>\n",
       "<table border=\"1\" class=\"dataframe\">\n",
       "  <thead>\n",
       "    <tr style=\"text-align: right;\">\n",
       "      <th></th>\n",
       "      <th>id</th>\n",
       "      <th>marca</th>\n",
       "      <th>categoria</th>\n",
       "      <th>descricao</th>\n",
       "      <th>quantidade</th>\n",
       "      <th>preco_compra</th>\n",
       "    </tr>\n",
       "  </thead>\n",
       "  <tbody>\n",
       "    <tr>\n",
       "      <th>0</th>\n",
       "      <td>1</td>\n",
       "      <td>Fragranze Spa</td>\n",
       "      <td>Sabonete Para Hotel Massa Branca</td>\n",
       "      <td>Mini Sabonete Hotel Fragranze Spa 13g - Cx 500...</td>\n",
       "      <td>1000</td>\n",
       "      <td>108.23</td>\n",
       "    </tr>\n",
       "    <tr>\n",
       "      <th>1</th>\n",
       "      <td>2</td>\n",
       "      <td>Naturallys</td>\n",
       "      <td>Sabonete Para Hotel Massa Branca</td>\n",
       "      <td>Mini Sabonete Hotel Naturallys 13g - Cx 500 und</td>\n",
       "      <td>1000</td>\n",
       "      <td>106.73</td>\n",
       "    </tr>\n",
       "    <tr>\n",
       "      <th>2</th>\n",
       "      <td>3</td>\n",
       "      <td>Naturallys</td>\n",
       "      <td>Sabonete Para Hotel Massa Branca</td>\n",
       "      <td>Sabonete Naturallys 20g Dovely Cx com 400 und</td>\n",
       "      <td>1000</td>\n",
       "      <td>123.45</td>\n",
       "    </tr>\n",
       "    <tr>\n",
       "      <th>3</th>\n",
       "      <td>4</td>\n",
       "      <td>Naturallys</td>\n",
       "      <td>Shampoos e Condicionadores</td>\n",
       "      <td>Shampoo Sache 2 em 1 Para Hotel Naturallys 10 ...</td>\n",
       "      <td>1000</td>\n",
       "      <td>60.92</td>\n",
       "    </tr>\n",
       "    <tr>\n",
       "      <th>4</th>\n",
       "      <td>5</td>\n",
       "      <td>Naturallys</td>\n",
       "      <td>Shampoos e Condicionadores</td>\n",
       "      <td>Shampoo sache 30 ml Naturallys cx 250 und</td>\n",
       "      <td>1000</td>\n",
       "      <td>82.00</td>\n",
       "    </tr>\n",
       "  </tbody>\n",
       "</table>\n",
       "</div>"
      ],
      "text/plain": [
       "   id          marca                         categoria  \\\n",
       "0   1  Fragranze Spa  Sabonete Para Hotel Massa Branca   \n",
       "1   2     Naturallys  Sabonete Para Hotel Massa Branca   \n",
       "2   3     Naturallys  Sabonete Para Hotel Massa Branca   \n",
       "3   4     Naturallys        Shampoos e Condicionadores   \n",
       "4   5     Naturallys        Shampoos e Condicionadores   \n",
       "\n",
       "                                           descricao  quantidade  preco_compra  \n",
       "0  Mini Sabonete Hotel Fragranze Spa 13g - Cx 500...        1000        108.23  \n",
       "1    Mini Sabonete Hotel Naturallys 13g - Cx 500 und        1000        106.73  \n",
       "2      Sabonete Naturallys 20g Dovely Cx com 400 und        1000        123.45  \n",
       "3  Shampoo Sache 2 em 1 Para Hotel Naturallys 10 ...        1000         60.92  \n",
       "4          Shampoo sache 30 ml Naturallys cx 250 und        1000         82.00  "
      ]
     },
     "execution_count": 4,
     "metadata": {},
     "output_type": "execute_result"
    }
   ],
   "source": [
    "produtos.head()"
   ]
  },
  {
   "cell_type": "code",
   "execution_count": 5,
   "metadata": {},
   "outputs": [],
   "source": [
    "marcas = pd.DataFrame({ 'nome': produtos.marca.unique() })\n",
    "marcas['id'] = marcas.index + 1\n",
    "\n",
    "categorias = pd.DataFrame({ 'titulo': produtos.categoria.unique() })\n",
    "categorias['id'] = categorias.index + 1"
   ]
  },
  {
   "cell_type": "code",
   "execution_count": 6,
   "metadata": {},
   "outputs": [
    {
     "data": {
      "text/html": [
       "<div>\n",
       "<style scoped>\n",
       "    .dataframe tbody tr th:only-of-type {\n",
       "        vertical-align: middle;\n",
       "    }\n",
       "\n",
       "    .dataframe tbody tr th {\n",
       "        vertical-align: top;\n",
       "    }\n",
       "\n",
       "    .dataframe thead th {\n",
       "        text-align: right;\n",
       "    }\n",
       "</style>\n",
       "<table border=\"1\" class=\"dataframe\">\n",
       "  <thead>\n",
       "    <tr style=\"text-align: right;\">\n",
       "      <th></th>\n",
       "      <th>nome</th>\n",
       "      <th>id</th>\n",
       "    </tr>\n",
       "  </thead>\n",
       "  <tbody>\n",
       "    <tr>\n",
       "      <th>0</th>\n",
       "      <td>Fragranze Spa</td>\n",
       "      <td>1</td>\n",
       "    </tr>\n",
       "    <tr>\n",
       "      <th>1</th>\n",
       "      <td>Naturallys</td>\n",
       "      <td>2</td>\n",
       "    </tr>\n",
       "    <tr>\n",
       "      <th>2</th>\n",
       "      <td>Atlântica</td>\n",
       "      <td>3</td>\n",
       "    </tr>\n",
       "    <tr>\n",
       "      <th>3</th>\n",
       "      <td>Abdouni</td>\n",
       "      <td>4</td>\n",
       "    </tr>\n",
       "    <tr>\n",
       "      <th>4</th>\n",
       "      <td>Abdounitex</td>\n",
       "      <td>5</td>\n",
       "    </tr>\n",
       "  </tbody>\n",
       "</table>\n",
       "</div>"
      ],
      "text/plain": [
       "            nome  id\n",
       "0  Fragranze Spa   1\n",
       "1     Naturallys   2\n",
       "2      Atlântica   3\n",
       "3        Abdouni   4\n",
       "4     Abdounitex   5"
      ]
     },
     "execution_count": 6,
     "metadata": {},
     "output_type": "execute_result"
    }
   ],
   "source": [
    "marcas.head()"
   ]
  },
  {
   "cell_type": "code",
   "execution_count": 7,
   "metadata": {},
   "outputs": [
    {
     "data": {
      "text/html": [
       "<div>\n",
       "<style scoped>\n",
       "    .dataframe tbody tr th:only-of-type {\n",
       "        vertical-align: middle;\n",
       "    }\n",
       "\n",
       "    .dataframe tbody tr th {\n",
       "        vertical-align: top;\n",
       "    }\n",
       "\n",
       "    .dataframe thead th {\n",
       "        text-align: right;\n",
       "    }\n",
       "</style>\n",
       "<table border=\"1\" class=\"dataframe\">\n",
       "  <thead>\n",
       "    <tr style=\"text-align: right;\">\n",
       "      <th></th>\n",
       "      <th>titulo</th>\n",
       "      <th>id</th>\n",
       "    </tr>\n",
       "  </thead>\n",
       "  <tbody>\n",
       "    <tr>\n",
       "      <th>0</th>\n",
       "      <td>Sabonete Para Hotel Massa Branca</td>\n",
       "      <td>1</td>\n",
       "    </tr>\n",
       "    <tr>\n",
       "      <th>1</th>\n",
       "      <td>Shampoos e Condicionadores</td>\n",
       "      <td>2</td>\n",
       "    </tr>\n",
       "    <tr>\n",
       "      <th>2</th>\n",
       "      <td>Toalha Para Hotel</td>\n",
       "      <td>3</td>\n",
       "    </tr>\n",
       "    <tr>\n",
       "      <th>3</th>\n",
       "      <td>Lençol de Hotel, Cobertores e Afins</td>\n",
       "      <td>4</td>\n",
       "    </tr>\n",
       "    <tr>\n",
       "      <th>4</th>\n",
       "      <td>Xicaras</td>\n",
       "      <td>5</td>\n",
       "    </tr>\n",
       "  </tbody>\n",
       "</table>\n",
       "</div>"
      ],
      "text/plain": [
       "                                titulo  id\n",
       "0     Sabonete Para Hotel Massa Branca   1\n",
       "1           Shampoos e Condicionadores   2\n",
       "2                    Toalha Para Hotel   3\n",
       "3  Lençol de Hotel, Cobertores e Afins   4\n",
       "4                              Xicaras   5"
      ]
     },
     "execution_count": 7,
     "metadata": {},
     "output_type": "execute_result"
    }
   ],
   "source": [
    "categorias.head()"
   ]
  },
  {
   "cell_type": "markdown",
   "metadata": {},
   "source": [
    "# SQLite"
   ]
  },
  {
   "cell_type": "code",
   "execution_count": 9,
   "metadata": {},
   "outputs": [],
   "source": [
    "import sqlite3\n",
    "con = sqlite3.connect(\"../db.sqlite3\")\n",
    "cur = con.cursor()\n",
    "\n",
    "# cur.execute(\"select name from sqlite_master where type = 'table';\")\n",
    "# for t in cur.fetchall():\n",
    "#   print(t[0])\n",
    "\n",
    "# estoque_marca\n",
    "# estoque_categoria\n",
    "# estoque_produto\n",
    "# estoque_estoque"
   ]
  },
  {
   "cell_type": "code",
   "execution_count": 10,
   "metadata": {},
   "outputs": [],
   "source": [
    "cur.execute(\"select * from estoque_produto;\")\n",
    "for e in cur.fetchall():\n",
    "  print(e)"
   ]
  },
  {
   "cell_type": "code",
   "execution_count": 11,
   "metadata": {},
   "outputs": [],
   "source": [
    "sql = f\"delete from estoque_marca;\"\n",
    "cur.execute(sql)\n",
    "sql = f\"delete from estoque_categoria;\"\n",
    "cur.execute(sql)\n",
    "sql = f\"delete from estoque_produto;\"\n",
    "cur.execute(sql)\n",
    "con.commit()"
   ]
  },
  {
   "cell_type": "code",
   "execution_count": 12,
   "metadata": {},
   "outputs": [],
   "source": [
    "marca_dict = {}\n",
    "for e in marcas.itertuples():\n",
    "  sql = f\"insert into estoque_marca (id, nome) values ({e.id}, '{e.nome}');\"\n",
    "  cur.execute(sql)\n",
    "  marca_dict[e.nome] = e.id\n",
    "con.commit()"
   ]
  },
  {
   "cell_type": "code",
   "execution_count": 13,
   "metadata": {},
   "outputs": [],
   "source": [
    "categoria_dict = {}\n",
    "for e in categorias.itertuples():\n",
    "  sql = f\"insert into estoque_categoria (id, titulo) values ({e.id}, '{e.titulo}');\"\n",
    "  cur.execute(sql)\n",
    "  categoria_dict[e.titulo] = e.id\n",
    "con.commit()"
   ]
  },
  {
   "cell_type": "code",
   "execution_count": 14,
   "metadata": {},
   "outputs": [],
   "source": [
    "produto_dict = {}\n",
    "for e in produtos.itertuples():\n",
    "  sql = f\"insert into estoque_produto (id, marca_id, categoria_id, descricao) values ({e.id}, {marca_dict[e.marca]}, {categoria_dict[e.categoria]}, '{e.descricao}');\"\n",
    "  cur.execute(sql)\n",
    "con.commit()"
   ]
  },
  {
   "cell_type": "code",
   "execution_count": 15,
   "metadata": {},
   "outputs": [],
   "source": [
    "for e in produtos.itertuples():\n",
    "  sql = f\"insert into estoque_estoque (id, produto_id, quantidade, preco_compra) values ({e.id}, {e.id}, {e.quantidade}, {e.preco_compra});\"\n",
    "  cur.execute(sql)\n",
    "con.commit()"
   ]
  }
 ],
 "metadata": {
  "kernelspec": {
   "display_name": ".venv",
   "language": "python",
   "name": "python3"
  },
  "language_info": {
   "codemirror_mode": {
    "name": "ipython",
    "version": 3
   },
   "file_extension": ".py",
   "mimetype": "text/x-python",
   "name": "python",
   "nbconvert_exporter": "python",
   "pygments_lexer": "ipython3",
   "version": "3.10.12"
  }
 },
 "nbformat": 4,
 "nbformat_minor": 2
}
